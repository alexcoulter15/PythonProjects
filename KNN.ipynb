{
 "cells": [
  {
   "cell_type": "markdown",
   "metadata": {
    "collapsed": false
   },
   "source": [
    "# K Nearest Neighbours \n",
    "\n",
    "Code to create a KNN. The key components of a KNN:  \n",
    "1. Find distances of each test point to every train point  \n",
    "2. Find the K closest neighbours \n",
    "3. Classify the test point based on majority vote  \n",
    "\n",
    "\n",
    "\n"
   ]
  },
  {
   "cell_type": "code",
   "execution_count": 3,
   "metadata": {
    "collapsed": false
   },
   "outputs": [],
   "source": [
    "#load in libraries\n",
    "import numpy as np\n",
    "import pandas as pd\n"
   ]
  },
  {
   "cell_type": "code",
   "execution_count": 12,
   "metadata": {
    "collapsed": false
   },
   "outputs": [],
   "source": [
    "#euclidean distance function\n",
    "def eucledian(p1, p2):\n",
    "    distance = np.sqrt(np.sum((p1-p2)**2))\n",
    "    return distance "
   ]
  },
  {
   "cell_type": "code",
   "execution_count": 13,
   "metadata": {
    "collapsed": false
   },
   "outputs": [],
   "source": [
    "#function to calculate majority vote\n",
    "def majority_vote(lab_array):\n",
    "    values, counts = np.unique(lab_array, return_counts = True)\n",
    "    most_common = np.argmax(counts)\n",
    "    return values[most_common]"
   ]
  },
  {
   "cell_type": "code",
   "execution_count": 60,
   "metadata": {
    "collapsed": false
   },
   "outputs": [],
   "source": [
    "#knn function\n",
    "def knn(x_train, y, x_test, k):\n",
    "    #variable to store labels \n",
    "    pred_labels = []\n",
    "    \n",
    "    #loop through datapoints to be classified\n",
    "    for point in np.array(x_test.iloc[:,:]):\n",
    "        point_dist = [] #to store distances \n",
    "        \n",
    "        #loop through training data and calculate distances \n",
    "        for j in range(len(x_train)):\n",
    "            dist = eucledian(np.array(x_train.iloc[j,:]), point)\n",
    "            point_dist.append(dist)\n",
    "        point_dist = np.array(point_dist)\n",
    "        \n",
    "        #sort the array, keep first k points\n",
    "        sort_dist = np.argsort(point_dist)[:k]\n",
    "        #labels of the k points \n",
    "        labels = y[sort_dist]\n",
    "        \n",
    "        #get majority vote for label and append to list \n",
    "        maj_label = majority_vote(labels)\n",
    "        pred_labels.append(maj_label)\n",
    "    return pred_labels "
   ]
  },
  {
   "cell_type": "code",
   "execution_count": 61,
   "metadata": {
    "collapsed": false
   },
   "outputs": [
    {
     "data": {
      "text/html": [
       "<div>\n",
       "<style scoped>\n",
       "    .dataframe tbody tr th:only-of-type {\n",
       "        vertical-align: middle;\n",
       "    }\n",
       "\n",
       "    .dataframe tbody tr th {\n",
       "        vertical-align: top;\n",
       "    }\n",
       "\n",
       "    .dataframe thead th {\n",
       "        text-align: right;\n",
       "    }\n",
       "</style>\n",
       "<table border=\"1\" class=\"dataframe\">\n",
       "  <thead>\n",
       "    <tr style=\"text-align: right;\">\n",
       "      <th></th>\n",
       "      <th>feature1</th>\n",
       "      <th>feature2</th>\n",
       "    </tr>\n",
       "  </thead>\n",
       "  <tbody>\n",
       "    <tr>\n",
       "      <th>0</th>\n",
       "      <td>0.929473</td>\n",
       "      <td>5.547088</td>\n",
       "    </tr>\n",
       "    <tr>\n",
       "      <th>1</th>\n",
       "      <td>1.967177</td>\n",
       "      <td>1.372847</td>\n",
       "    </tr>\n",
       "    <tr>\n",
       "      <th>2</th>\n",
       "      <td>2.315361</td>\n",
       "      <td>1.882279</td>\n",
       "    </tr>\n",
       "    <tr>\n",
       "      <th>3</th>\n",
       "      <td>3.186538</td>\n",
       "      <td>5.275461</td>\n",
       "    </tr>\n",
       "    <tr>\n",
       "      <th>4</th>\n",
       "      <td>2.120076</td>\n",
       "      <td>3.231435</td>\n",
       "    </tr>\n",
       "  </tbody>\n",
       "</table>\n",
       "</div>"
      ],
      "text/plain": [
       "   feature1  feature2\n",
       "0  0.929473  5.547088\n",
       "1  1.967177  1.372847\n",
       "2  2.315361  1.882279\n",
       "3  3.186538  5.275461\n",
       "4  2.120076  3.231435"
      ]
     },
     "execution_count": 61,
     "metadata": {},
     "output_type": "execute_result"
    }
   ],
   "source": [
    "#read in train and test data\n",
    "#train data\n",
    "X = pd.read_csv('knn_train_data.csv')\n",
    "X.head()\n",
    "\n",
    "#sepaate features and class into x_train and y_train\n",
    "x_train = X.iloc[:, 1:3]\n",
    "y_train = X.iloc[:, 3]\n",
    "\n",
    "#check data separation \n",
    "x_train.head()\n",
    "y_train.head()\n",
    "\n",
    "#read in test data \n",
    "x_test = pd.read_csv('test_data.csv')\n",
    "x_test = x_test.iloc[:, 1:]\n",
    "x_test.head()"
   ]
  },
  {
   "cell_type": "code",
   "execution_count": 62,
   "metadata": {
    "collapsed": false
   },
   "outputs": [
    {
     "name": "stdout",
     "output_type": "stream",
     "text": [
      "27\n"
     ]
    }
   ],
   "source": [
    "#call knn function\n",
    "y_pred = knn(x_train, y_train, x_test, 10)\n",
    "#check labels before adding to csv file \n",
    "print(len(y_pred))"
   ]
  },
  {
   "cell_type": "code",
   "execution_count": 64,
   "metadata": {
    "collapsed": false
   },
   "outputs": [],
   "source": [
    "#write y_pred to a csv and save \n",
    "x_test['Class'] = y_pred\n",
    "x_test.head()\n",
    "#save new column into csv \n",
    "x_test.to_csv('Alex_Coulter_knn_test_cluster.csv')"
   ]
  }
 ],
 "metadata": {
  "kernelspec": {
   "argv": [
    "/usr/bin/python3",
    "-m",
    "ipykernel",
    "--HistoryManager.enabled=False",
    "--matplotlib=inline",
    "-c",
    "%config InlineBackend.figure_formats = set(['retina'])\nimport matplotlib; matplotlib.rcParams['figure.figsize'] = (12, 7)",
    "-f",
    "{connection_file}"
   ],
   "display_name": "Python 3 (system-wide)",
   "env": {},
   "language": "python",
   "metadata": {
    "cocalc": {
     "description": "Python 3 programming language",
     "priority": 100,
     "url": "https://www.python.org/"
    }
   },
   "name": "python3",
   "resource_dir": "/ext/jupyter/kernels/python3"
  },
  "language_info": {
   "codemirror_mode": {
    "name": "ipython",
    "version": 3
   },
   "file_extension": ".py",
   "mimetype": "text/x-python",
   "name": "python",
   "nbconvert_exporter": "python",
   "pygments_lexer": "ipython3",
   "version": "3.10.12"
  }
 },
 "nbformat": 4,
 "nbformat_minor": 4
}
